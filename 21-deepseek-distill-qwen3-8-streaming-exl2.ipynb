{
 "cells": [
  {
   "cell_type": "code",
   "execution_count": null,
   "id": "ae3a5070",
   "metadata": {},
   "outputs": [],
   "source": [
    "import sys, os"
   ]
  },
  {
   "cell_type": "code",
   "execution_count": null,
   "id": "65ceb4a9",
   "metadata": {},
   "outputs": [],
   "source": [
    "from exllamav2 import ExLlamaV2, ExLlamaV2Config, ExLlamaV2Cache, ExLlamaV2Tokenizer\n",
    "from exllamav2.generator import ExLlamaV2StreamingGenerator, ExLlamaV2Sampler"
   ]
  },
  {
   "cell_type": "code",
   "execution_count": null,
   "id": "abacb012-fcc3-453c-9a17-f472f4814448",
   "metadata": {},
   "outputs": [],
   "source": [
    "total_cache_tokens = 16384"
   ]
  },
  {
   "cell_type": "code",
   "execution_count": null,
   "id": "c832042d",
   "metadata": {},
   "outputs": [],
   "source": [
    "model_dir = \"/home/cwinkler/oreilly/models/DeepSeek-R1-0528-Qwen3-8B-4.25bpw-exl2\"\n",
    "config = ExLlamaV2Config(model_dir)\n",
    "config.arch_compat_overrides()\n",
    "model = ExLlamaV2(config)\n",
    "cache = ExLlamaV2Cache(model, max_seq_len = total_cache_tokens, lazy = True)\n",
    "model.load_autosplit(cache, progress = True)"
   ]
  },
  {
   "cell_type": "code",
   "execution_count": null,
   "id": "88c74685",
   "metadata": {},
   "outputs": [],
   "source": [
    "tokenizer = ExLlamaV2Tokenizer(config)"
   ]
  },
  {
   "cell_type": "code",
   "execution_count": null,
   "id": "9ea9947f-8bbd-41c2-888c-7003b4ee2e09",
   "metadata": {},
   "outputs": [],
   "source": [
    "max_new_tokens = 2500"
   ]
  },
  {
   "cell_type": "code",
   "execution_count": null,
   "id": "c0d1ebb5-fa0e-4fcb-8e75-f15227913bc2",
   "metadata": {},
   "outputs": [],
   "source": [
    "generator = ExLlamaV2StreamingGenerator(model, cache, tokenizer)"
   ]
  },
  {
   "cell_type": "code",
   "execution_count": null,
   "id": "5034cea1-6afb-40cb-a5a0-325bf148bef9",
   "metadata": {},
   "outputs": [],
   "source": [
    "settings = ExLlamaV2Sampler.Settings.greedy()"
   ]
  },
  {
   "cell_type": "code",
   "execution_count": null,
   "id": "de26fa33",
   "metadata": {},
   "outputs": [],
   "source": [
    "prompt = \"<｜begin▁of▁sentence｜><｜User｜>How many 'r's are in 'strawberry'?<｜Assistant｜>\""
   ]
  },
  {
   "cell_type": "code",
   "execution_count": null,
   "id": "7c7b7ac1",
   "metadata": {},
   "outputs": [],
   "source": [
    "input_ids = tokenizer.encode(prompt)\n",
    "prompt_tokens = input_ids.shape[-1]"
   ]
  },
  {
   "cell_type": "code",
   "execution_count": null,
   "id": "33684d3e",
   "metadata": {},
   "outputs": [],
   "source": [
    "generator.warmup()"
   ]
  },
  {
   "cell_type": "code",
   "execution_count": null,
   "id": "538e5715",
   "metadata": {},
   "outputs": [],
   "source": [
    "generator.set_stop_conditions([tokenizer.eos_token_id])\n",
    "generator.begin_stream(input_ids, settings)"
   ]
  },
  {
   "cell_type": "code",
   "execution_count": null,
   "id": "2414b06b",
   "metadata": {},
   "outputs": [],
   "source": [
    "import time\n",
    "\n",
    "start = time.time()\n",
    "\n",
    "generated_tokens = 0\n",
    "while True:\n",
    "    chunk, eos, _ = generator.stream()\n",
    "    generated_tokens += 1\n",
    "    print (chunk, end = \"\")\n",
    "    sys.stdout.flush()\n",
    "    if eos or generated_tokens == max_new_tokens: break\n",
    "\n",
    "used = time.time() - start\n",
    "tps = generated_tokens / used\n",
    "print(f\"\\n\\n{used} seconds, {tps} tokens/s\")"
   ]
  },
  {
   "cell_type": "code",
   "execution_count": null,
   "id": "ca355721",
   "metadata": {},
   "outputs": [],
   "source": [
    "!nvidia-smi"
   ]
  },
  {
   "cell_type": "code",
   "execution_count": null,
   "id": "2669131c",
   "metadata": {},
   "outputs": [],
   "source": []
  }
 ],
 "metadata": {
  "kernelspec": {
   "display_name": "Python 3 (ipykernel)",
   "language": "python",
   "name": "python3"
  },
  "language_info": {
   "codemirror_mode": {
    "name": "ipython",
    "version": 3
   },
   "file_extension": ".py",
   "mimetype": "text/x-python",
   "name": "python",
   "nbconvert_exporter": "python",
   "pygments_lexer": "ipython3",
   "version": "3.12.3"
  }
 },
 "nbformat": 4,
 "nbformat_minor": 5
}
