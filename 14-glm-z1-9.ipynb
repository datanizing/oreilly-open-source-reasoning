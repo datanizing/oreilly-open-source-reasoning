{
 "cells": [
  {
   "cell_type": "code",
   "execution_count": null,
   "id": "f05f21b6-2787-4096-827d-04f68d4bb7ac",
   "metadata": {},
   "outputs": [],
   "source": [
    "from transformers import AutoModelForCausalLM, AutoTokenizer"
   ]
  },
  {
   "cell_type": "code",
   "execution_count": null,
   "id": "481ef4b6-cf16-4848-9b34-9a03e2c60def",
   "metadata": {},
   "outputs": [],
   "source": [
    "model_name = \"THUDM/GLM-Z1-9B-0414\""
   ]
  },
  {
   "cell_type": "code",
   "execution_count": null,
   "id": "cf03cee0-f027-4a81-9017-8b61b201fd22",
   "metadata": {},
   "outputs": [],
   "source": [
    "# load the tokenizer and the model\n",
    "tokenizer = AutoTokenizer.from_pretrained(model_name)\n",
    "model = AutoModelForCausalLM.from_pretrained(\n",
    "    model_name,\n",
    "    torch_dtype=\"auto\",\n",
    "    device_map=\"auto\"\n",
    ")"
   ]
  },
  {
   "cell_type": "code",
   "execution_count": null,
   "id": "cc696607-2b0c-40c3-bb99-2999ed329049",
   "metadata": {},
   "outputs": [],
   "source": [
    "!nvidia-smi"
   ]
  },
  {
   "cell_type": "code",
   "execution_count": null,
   "id": "5efe3cdb-c846-4ccb-a986-e7f4a3f562f1",
   "metadata": {},
   "outputs": [],
   "source": [
    "# prepare the model input\n",
    "# prompt = \"Explain O'Reilly online learning\"\n",
    "prompt = \"How many 'r's are in 'strawberry'?\"\n",
    "messages = [\n",
    "    {\"role\": \"user\", \"content\": prompt}\n",
    "]\n",
    "text = tokenizer.apply_chat_template(\n",
    "    messages,\n",
    "    tokenize=False,\n",
    "    add_generation_prompt=True,\n",
    "    enable_thinking=True\n",
    ")"
   ]
  },
  {
   "cell_type": "code",
   "execution_count": null,
   "id": "ee5e45cc-0488-44b8-8f04-af38543b4d0b",
   "metadata": {},
   "outputs": [],
   "source": [
    "# we check what happens when we remove thinking later\n",
    "text"
   ]
  },
  {
   "cell_type": "code",
   "execution_count": null,
   "id": "37931c76-faab-40d0-82d7-80dad7744c06",
   "metadata": {},
   "outputs": [],
   "source": [
    "model_inputs = tokenizer([text], return_tensors=\"pt\").to(model.device)"
   ]
  },
  {
   "cell_type": "code",
   "execution_count": null,
   "id": "6a74303e-51c0-44cd-bd6f-706dc1648eb3",
   "metadata": {},
   "outputs": [],
   "source": [
    "%%time \n",
    "generated_ids = model.generate(\n",
    "    **model_inputs,\n",
    "    max_new_tokens=32768\n",
    ")"
   ]
  },
  {
   "cell_type": "code",
   "execution_count": null,
   "id": "4f112da3-983e-46c8-957e-ccca09033483",
   "metadata": {},
   "outputs": [],
   "source": [
    "# only read output, skip input\n",
    "output_ids = generated_ids[0][len(model_inputs.input_ids[0]):].tolist() "
   ]
  },
  {
   "cell_type": "code",
   "execution_count": null,
   "id": "f2708605-b263-4b28-9375-7b4bb3eb6573",
   "metadata": {},
   "outputs": [],
   "source": [
    "len(output_ids)"
   ]
  },
  {
   "cell_type": "code",
   "execution_count": null,
   "id": "058eb09e-5b31-4679-ab82-3538ded97fb0",
   "metadata": {},
   "outputs": [],
   "source": [
    "from IPython.display import display, Markdown\n",
    "display(Markdown(tokenizer.decode(output_ids)))"
   ]
  }
 ],
 "metadata": {
  "kernelspec": {
   "display_name": "Python 3 (ipykernel)",
   "language": "python",
   "name": "python3"
  },
  "language_info": {
   "codemirror_mode": {
    "name": "ipython",
    "version": 3
   },
   "file_extension": ".py",
   "mimetype": "text/x-python",
   "name": "python",
   "nbconvert_exporter": "python",
   "pygments_lexer": "ipython3",
   "version": "3.12.3"
  }
 },
 "nbformat": 4,
 "nbformat_minor": 5
}
