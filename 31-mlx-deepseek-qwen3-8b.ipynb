{
 "cells": [
  {
   "cell_type": "code",
   "execution_count": null,
   "id": "11f0b530-e1e0-44c4-9994-5235941ccac7",
   "metadata": {},
   "outputs": [],
   "source": [
    "from mlx_lm import load, generate"
   ]
  },
  {
   "cell_type": "code",
   "execution_count": null,
   "id": "cfd995b0-a4a9-423a-8633-6c35ddc46979",
   "metadata": {},
   "outputs": [],
   "source": [
    "model, tokenizer = load(\"mlx-community/DeepSeek-R1-0528-Qwen3-8B-4bit-DWQ\")"
   ]
  },
  {
   "cell_type": "code",
   "execution_count": null,
   "id": "2ab23dcd-c55a-4b19-add4-055a33e30551",
   "metadata": {},
   "outputs": [],
   "source": [
    "prompt = \"How many 'r's are in 'strawberry'?\""
   ]
  },
  {
   "cell_type": "code",
   "execution_count": null,
   "id": "3e8b2185-a750-49e8-bf53-170d79f2f500",
   "metadata": {},
   "outputs": [],
   "source": [
    "if tokenizer.chat_template is not None:\n",
    "    messages = [{\"role\": \"user\", \"content\": prompt}]\n",
    "    prompt = tokenizer.apply_chat_template(\n",
    "        messages, add_generation_prompt=True\n",
    "    )\n"
   ]
  },
  {
   "cell_type": "code",
   "execution_count": null,
   "id": "a9789d19-2cf5-4e9b-9f8c-3f08888a9397",
   "metadata": {},
   "outputs": [],
   "source": [
    "response = generate(model, tokenizer, prompt=prompt, verbose=True, max_tokens=2500)"
   ]
  },
  {
   "cell_type": "code",
   "execution_count": null,
   "id": "eaade4bd-1db1-4dfd-a634-73aa5b633986",
   "metadata": {},
   "outputs": [],
   "source": []
  }
 ],
 "metadata": {
  "kernelspec": {
   "display_name": "Python 3 (ipykernel)",
   "language": "python",
   "name": "python3"
  },
  "language_info": {
   "codemirror_mode": {
    "name": "ipython",
    "version": 3
   },
   "file_extension": ".py",
   "mimetype": "text/x-python",
   "name": "python",
   "nbconvert_exporter": "python",
   "pygments_lexer": "ipython3",
   "version": "3.9.6"
  }
 },
 "nbformat": 4,
 "nbformat_minor": 5
}
