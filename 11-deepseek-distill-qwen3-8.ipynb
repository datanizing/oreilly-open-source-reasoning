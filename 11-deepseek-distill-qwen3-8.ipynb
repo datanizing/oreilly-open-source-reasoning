{
 "cells": [
  {
   "cell_type": "code",
   "execution_count": 1,
   "id": "f05f21b6-2787-4096-827d-04f68d4bb7ac",
   "metadata": {},
   "outputs": [],
   "source": [
    "from transformers import AutoModelForCausalLM, AutoTokenizer"
   ]
  },
  {
   "cell_type": "code",
   "execution_count": 2,
   "id": "481ef4b6-cf16-4848-9b34-9a03e2c60def",
   "metadata": {},
   "outputs": [],
   "source": [
    "model_name = \"deepseek-ai/DeepSeek-R1-0528-Qwen3-8B\""
   ]
  },
  {
   "cell_type": "code",
   "execution_count": 3,
   "id": "cf03cee0-f027-4a81-9017-8b61b201fd22",
   "metadata": {},
   "outputs": [
    {
     "name": "stderr",
     "output_type": "stream",
     "text": [
      "Unrecognized keys in `rope_scaling` for 'rope_type'='yarn': {'attn_factor'}\n"
     ]
    },
    {
     "data": {
      "application/vnd.jupyter.widget-view+json": {
       "model_id": "18e16f151ed44acfbdd8cd1380291a6e",
       "version_major": 2,
       "version_minor": 0
      },
      "text/plain": [
       "Loading checkpoint shards:   0%|          | 0/2 [00:00<?, ?it/s]"
      ]
     },
     "metadata": {},
     "output_type": "display_data"
    }
   ],
   "source": [
    "# load the tokenizer and the model\n",
    "tokenizer = AutoTokenizer.from_pretrained(model_name)\n",
    "model = AutoModelForCausalLM.from_pretrained(\n",
    "    model_name,\n",
    "    torch_dtype=\"auto\",\n",
    "    device_map=\"auto\"\n",
    ")"
   ]
  },
  {
   "cell_type": "code",
   "execution_count": 4,
   "id": "cc696607-2b0c-40c3-bb99-2999ed329049",
   "metadata": {},
   "outputs": [
    {
     "name": "stdout",
     "output_type": "stream",
     "text": [
      "Sat Jun  7 16:23:34 2025       \n",
      "+-----------------------------------------------------------------------------------------+\n",
      "| NVIDIA-SMI 570.124.06             Driver Version: 570.124.06     CUDA Version: 12.8     |\n",
      "|-----------------------------------------+------------------------+----------------------+\n",
      "| GPU  Name                 Persistence-M | Bus-Id          Disp.A | Volatile Uncorr. ECC |\n",
      "| Fan  Temp   Perf          Pwr:Usage/Cap |           Memory-Usage | GPU-Util  Compute M. |\n",
      "|                                         |                        |               MIG M. |\n",
      "|=========================================+========================+======================|\n",
      "|   0  NVIDIA GeForce RTX 4090        Off |   00000000:26:00.0 Off |                  Off |\n",
      "| 30%   38C    P0             84W /  450W |   16019MiB /  24564MiB |      0%      Default |\n",
      "|                                         |                        |                  N/A |\n",
      "+-----------------------------------------+------------------------+----------------------+\n",
      "                                                                                         \n",
      "+-----------------------------------------------------------------------------------------+\n",
      "| Processes:                                                                              |\n",
      "|  GPU   GI   CI              PID   Type   Process name                        GPU Memory |\n",
      "|        ID   ID                                                               Usage      |\n",
      "|=========================================================================================|\n",
      "|    0   N/A  N/A          201359      C   ...jupyter-env/.venv/bin/python3      16010MiB |\n",
      "+-----------------------------------------------------------------------------------------+\n"
     ]
    }
   ],
   "source": [
    "!nvidia-smi"
   ]
  },
  {
   "cell_type": "code",
   "execution_count": 5,
   "id": "5efe3cdb-c846-4ccb-a986-e7f4a3f562f1",
   "metadata": {},
   "outputs": [],
   "source": [
    "# prepare the model input\n",
    "# prompt = \"Explain O'Reilly online learning\"\n",
    "prompt = \"How many 'r's are in 'strawberry'?\"\n",
    "messages = [\n",
    "    {\"role\": \"user\", \"content\": prompt}\n",
    "]\n",
    "text = tokenizer.apply_chat_template(\n",
    "    messages,\n",
    "    tokenize=False,\n",
    "    add_generation_prompt=True,\n",
    "    enable_thinking=True\n",
    ")"
   ]
  },
  {
   "cell_type": "code",
   "execution_count": 6,
   "id": "ee5e45cc-0488-44b8-8f04-af38543b4d0b",
   "metadata": {},
   "outputs": [
    {
     "data": {
      "text/plain": [
       "\"<｜begin▁of▁sentence｜><｜User｜>How many 'r's are in 'strawberry'?<｜Assistant｜>\""
      ]
     },
     "execution_count": 6,
     "metadata": {},
     "output_type": "execute_result"
    }
   ],
   "source": [
    "# we check what happens when we remove thinking later\n",
    "text"
   ]
  },
  {
   "cell_type": "code",
   "execution_count": null,
   "id": "37931c76-faab-40d0-82d7-80dad7744c06",
   "metadata": {},
   "outputs": [],
   "source": [
    "model_inputs = tokenizer([text], return_tensors=\"pt\").to(model.device)"
   ]
  },
  {
   "cell_type": "code",
   "execution_count": null,
   "id": "6a74303e-51c0-44cd-bd6f-706dc1648eb3",
   "metadata": {},
   "outputs": [],
   "source": [
    "%%time \n",
    "generated_ids = model.generate(\n",
    "    **model_inputs,\n",
    "    max_new_tokens=32768\n",
    ")"
   ]
  },
  {
   "cell_type": "code",
   "execution_count": null,
   "id": "4f112da3-983e-46c8-957e-ccca09033483",
   "metadata": {},
   "outputs": [],
   "source": [
    "# only read output, skip input\n",
    "output_ids = generated_ids[0][len(model_inputs.input_ids[0]):].tolist() "
   ]
  },
  {
   "cell_type": "code",
   "execution_count": null,
   "id": "f2708605-b263-4b28-9375-7b4bb3eb6573",
   "metadata": {},
   "outputs": [],
   "source": [
    "len(output_ids)"
   ]
  },
  {
   "cell_type": "code",
   "execution_count": null,
   "id": "1eaba31c-c46a-4bbc-a64d-2adc860d39c3",
   "metadata": {},
   "outputs": [],
   "source": [
    "# possibly two different content parts\n",
    "try:\n",
    "    # rindex finding 151668 (</think>), could also look for the string!\n",
    "    think_index = len(output_ids) - output_ids[::-1].index(151668)\n",
    "except ValueError:\n",
    "    think_index = 0\n",
    "\n",
    "thinking_content = tokenizer.decode(output_ids[:think_index], skip_special_tokens=True).strip(\"\\n\")\n",
    "content = tokenizer.decode(output_ids[think_index:], skip_special_tokens=True).strip(\"\\n\")"
   ]
  },
  {
   "cell_type": "code",
   "execution_count": null,
   "id": "b2a80ca4-1d29-43fb-8c4a-dcbed8ebd819",
   "metadata": {},
   "outputs": [],
   "source": [
    "print(thinking_content)"
   ]
  },
  {
   "cell_type": "code",
   "execution_count": null,
   "id": "a45ed790-473c-49e8-9f3e-0ceda589471e",
   "metadata": {},
   "outputs": [],
   "source": [
    "print(content)"
   ]
  },
  {
   "cell_type": "code",
   "execution_count": null,
   "id": "6726b6a8-9c62-40af-a8cc-5a797aaf4b8e",
   "metadata": {},
   "outputs": [],
   "source": [
    "from IPython.display import display, Markdown\n",
    "display(Markdown(content))"
   ]
  },
  {
   "cell_type": "code",
   "execution_count": null,
   "id": "148fe03a-85b0-4c50-bf35-81566af4fd0e",
   "metadata": {},
   "outputs": [],
   "source": []
  }
 ],
 "metadata": {
  "kernelspec": {
   "display_name": "Python 3 (ipykernel)",
   "language": "python",
   "name": "python3"
  },
  "language_info": {
   "codemirror_mode": {
    "name": "ipython",
    "version": 3
   },
   "file_extension": ".py",
   "mimetype": "text/x-python",
   "name": "python",
   "nbconvert_exporter": "python",
   "pygments_lexer": "ipython3",
   "version": "3.12.3"
  }
 },
 "nbformat": 4,
 "nbformat_minor": 5
}
