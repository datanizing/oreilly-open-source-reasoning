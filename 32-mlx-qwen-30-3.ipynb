{
 "cells": [
  {
   "cell_type": "code",
   "execution_count": null,
   "id": "18e0a9fd-274b-471b-9e41-e7b42849b0cf",
   "metadata": {},
   "outputs": [],
   "source": [
    "from mlx_lm import load, generate"
   ]
  },
  {
   "cell_type": "code",
   "execution_count": null,
   "id": "f17177f7-e2ee-413f-be65-07f76feb698a",
   "metadata": {},
   "outputs": [],
   "source": [
    "model, tokenizer = load(\"mlx-community/Qwen3-30B-A3B-4bit-DWQ-0508\")"
   ]
  },
  {
   "cell_type": "code",
   "execution_count": null,
   "id": "9a921951-e201-4da4-a338-ee6e5ec50aa6",
   "metadata": {},
   "outputs": [],
   "source": [
    "prompt = \"How many 'r's are in 'strawberry'?\""
   ]
  },
  {
   "cell_type": "code",
   "execution_count": null,
   "id": "234a046e-3a07-4f30-acf4-7ce3f8fefa74",
   "metadata": {},
   "outputs": [],
   "source": [
    "if tokenizer.chat_template is not None:\n",
    "    messages = [{\"role\": \"user\", \"content\": prompt}]\n",
    "    prompt = tokenizer.apply_chat_template(\n",
    "        messages, add_generation_prompt=True\n",
    "    )"
   ]
  },
  {
   "cell_type": "code",
   "execution_count": null,
   "id": "6ba715b1-a0e4-4212-b003-a05934b35c9a",
   "metadata": {},
   "outputs": [],
   "source": [
    "response = generate(model, tokenizer, prompt=prompt, verbose=True, max_tokens=2500)"
   ]
  },
  {
   "cell_type": "code",
   "execution_count": null,
   "id": "318e0f2c-239f-443d-be07-b12ebc69c319",
   "metadata": {},
   "outputs": [],
   "source": []
  }
 ],
 "metadata": {
  "kernelspec": {
   "display_name": "Python 3 (ipykernel)",
   "language": "python",
   "name": "python3"
  },
  "language_info": {
   "codemirror_mode": {
    "name": "ipython",
    "version": 3
   },
   "file_extension": ".py",
   "mimetype": "text/x-python",
   "name": "python",
   "nbconvert_exporter": "python",
   "pygments_lexer": "ipython3",
   "version": "3.9.6"
  }
 },
 "nbformat": 4,
 "nbformat_minor": 5
}
